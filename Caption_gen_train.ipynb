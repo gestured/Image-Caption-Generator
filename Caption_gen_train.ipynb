{
 "cells": [
  {
   "cell_type": "code",
   "execution_count": 1,
   "metadata": {
    "colab": {
     "base_uri": "https://localhost:8080/",
     "height": 117,
     "referenced_widgets": [
      "96be932e8e4b4dd2b621ed0b4fb0f1b9",
      "d2fc5ab450394cf7b3e19aca86213acb",
      "dd91e89ed063468bbb79d21345cb10c7",
      "2d08bf19a48941ecb5341faf32d78f73",
      "1b8a305eb5ee4ab188f3d2a50e9665c4",
      "08f07db6de59400dad6bdcdcdf9f6b79",
      "e94807b5126944889819e3653773e88d",
      "7ff11c08434b4d518a56d57c580e54ed"
     ]
    },
    "id": "IxVM8Yuw9t9a",
    "outputId": "fb91b9fd-327f-4f7b-908d-9d6d9ef49c14"
   },
   "outputs": [
    {
     "name": "stderr",
     "output_type": "stream",
     "text": [
      "<ipython-input-1-a98491a92fc2>:17: TqdmDeprecationWarning: This function will be removed in tqdm==5.0.0\n",
      "Please use `tqdm.notebook.tqdm` instead of `tqdm.tqdm_notebook`\n",
      "  tqdm().pandas()\n"
     ]
    },
    {
     "data": {
      "application/vnd.jupyter.widget-view+json": {
       "model_id": "90f4dd4b9feb479e8f95521ec05c3d7f",
       "version_major": 2,
       "version_minor": 0
      },
      "text/plain": [
       "HBox(children=(HTML(value=''), FloatProgress(value=1.0, bar_style='info', layout=Layout(width='20px'), max=1.0…"
      ]
     },
     "metadata": {},
     "output_type": "display_data"
    },
    {
     "name": "stderr",
     "output_type": "stream",
     "text": [
      "/home/deadpool/.local/lib/python3.8/site-packages/tqdm/std.py:697: FutureWarning: The Panel class is removed from pandas. Accessing it from the top-level namespace will also be removed in the next version\n",
      "  from pandas import Panel\n"
     ]
    }
   ],
   "source": [
    "import string\n",
    "import numpy as np\n",
    "from PIL import Image\n",
    "import os\n",
    "from pickle import dump , load\n",
    "\n",
    "from tensorflow.keras.applications.xception import Xception , preprocess_input\n",
    "from tensorflow.keras.preprocessing.image import load_img , img_to_array\n",
    "from tensorflow.keras.preprocessing.text import Tokenizer\n",
    "from tensorflow.keras.preprocessing.sequence import pad_sequences\n",
    "from tensorflow.keras.utils import to_categorical\n",
    "from tensorflow.keras.layers import add\n",
    "from tensorflow.keras.models import Model , load_model\n",
    "from tensorflow.keras.layers import Input , Dense , LSTM , Embedding , Dropout\n",
    "\n",
    "from tqdm import tqdm_notebook as tqdm\n",
    "tqdm().pandas()"
   ]
  },
  {
   "cell_type": "code",
   "execution_count": 2,
   "metadata": {
    "colab": {
     "base_uri": "https://localhost:8080/",
     "height": 50
    },
    "id": "3z4Y3z629t9k",
    "outputId": "422ed24e-61a8-42cc-ea21-4ab1938e42f6"
   },
   "outputs": [
    {
     "name": "stdout",
     "output_type": "stream",
     "text": [
      "Length of descriptions =  8092\n",
      "Length of vocab =  8763\n"
     ]
    }
   ],
   "source": [
    "def load_doc(filename):\n",
    "    file = open(filename , 'r')\n",
    "    text = file.read()\n",
    "    file.close()\n",
    "    return text\n",
    "\n",
    "\n",
    "\n",
    "def all_img_captions(filename):\n",
    "    file = load_doc(filename)\n",
    "    captions = file.split('\\n')\n",
    "    descriptions ={}\n",
    "    for caption in captions[:-1]:\n",
    "        img , caption = caption.split('\\t')\n",
    "        if img[:-2] not in descriptions:\n",
    "            descriptions[img[:-2]] = [caption]\n",
    "        else:\n",
    "            descriptions[img[:-2]].append(caption)\n",
    "    return descriptions\n",
    "\n",
    "\n",
    "def cleaning_text(captions):\n",
    "    table = str.maketrans('' , '' , string.punctuation)\n",
    "    \n",
    "    for img , caps in captions.items():\n",
    "        for i , img_caption in enumerate(caps):\n",
    "            img_caption.replace(\"-\" , \" \")\n",
    "            desc = img_caption.split()\n",
    "            \n",
    "            desc = [word.lower() for word in desc]\n",
    "\n",
    "            desc = [word.translate(table) for word in desc]\n",
    "\n",
    "            desc = [word for word in desc if(len(word)>1)]\n",
    "\n",
    "            desc = [word for word in desc if(word.isalpha())]\n",
    "\n",
    "            img_caption = ' '.join(desc)\n",
    "            captions[img][i] = img_caption\n",
    "    return captions\n",
    "\n",
    "def text_vocabulary(descriptions):\n",
    "    vocab = set()\n",
    "\n",
    "    for key in descriptions.keys():\n",
    "        [vocab.update(d.split()) for d in descriptions[key]]\n",
    "\n",
    "    return vocab\n",
    "\n",
    "def save_descriptions(descriptions , filename):\n",
    "    lines = list()\n",
    "    for key,desc_list in descriptions.items():\n",
    "        for desc in desc_list:\n",
    "            lines.append(key + '\\t' + desc)\n",
    "\n",
    "    data = \"\\n\".join(lines)\n",
    "    file = open(filename , \"w\")\n",
    "    file.write(data)\n",
    "    file.close\n",
    "\n",
    "\n",
    "dataset_text = 'Flickr_8k_text'\n",
    "dataset_images = 'Flicker8k_Dataset'\n",
    "\n",
    "filename = dataset_text + '/' + \"Flickr8k.token.txt\"\n",
    "\n",
    "descriptions = all_img_captions(filename)\n",
    "print(\"Length of descriptions = \" , len(descriptions))\n",
    "\n",
    "clean_descriptions = cleaning_text(descriptions)\n",
    "\n",
    "vocabulary = text_vocabulary(clean_descriptions)\n",
    "print(\"Length of vocab = \" , len(vocabulary))\n",
    "\n",
    "save_descriptions(clean_descriptions , \"descriptions.txt\")\n"
   ]
  },
  {
   "cell_type": "code",
   "execution_count": 3,
   "metadata": {
    "colab": {
     "base_uri": "https://localhost:8080/",
     "height": 166,
     "referenced_widgets": [
      "56fd0fa7503d42e5946794295b422773",
      "f2d8c9a97d164cdc9ff98693f11ab0e9",
      "fbc0dfeaf53b421480971a8dc0419ee1",
      "282336856c794e559b5a4fb74bf49c5d",
      "cf17c57e78a3465f9b96fc6dd6a36b64",
      "6fae34c43f4e45d1a6a20079c69bb93a",
      "04f93504c0144a61aefe6353ae56949d",
      "0fde64defb734c068f1a5f88befbe0fd"
     ]
    },
    "id": "sK47AaurAwdS",
    "outputId": "6280b2c5-9243-467a-bb30-d582890e82e6"
   },
   "outputs": [
    {
     "name": "stdout",
     "output_type": "stream",
     "text": [
      "\n",
      "Downloading data from https://storage.googleapis.com/tensorflow/keras-applications/xception/xception_weights_tf_dim_ordering_tf_kernels_notop.h5\n",
      "83689472/83683744 [==============================] - 37s 0us/step\n"
     ]
    },
    {
     "name": "stderr",
     "output_type": "stream",
     "text": [
      "<ipython-input-3-76074cc32e54>:5: TqdmDeprecationWarning: This function will be removed in tqdm==5.0.0\n",
      "Please use `tqdm.notebook.tqdm` instead of `tqdm.tqdm_notebook`\n",
      "  for img in tqdm(os.listdir(directory)):\n"
     ]
    },
    {
     "data": {
      "application/vnd.jupyter.widget-view+json": {
       "model_id": "d67512703ff34529ba4c6282966ef557",
       "version_major": 2,
       "version_minor": 0
      },
      "text/plain": [
       "HBox(children=(HTML(value=''), FloatProgress(value=0.0, max=8091.0), HTML(value='')))"
      ]
     },
     "metadata": {},
     "output_type": "display_data"
    },
    {
     "name": "stdout",
     "output_type": "stream",
     "text": [
      "\n"
     ]
    }
   ],
   "source": [
    "def extract_features(directory):\n",
    "    model = Xception(include_top = False , pooling='avg')\n",
    "    features = {}\n",
    "\n",
    "    for img in tqdm(os.listdir(directory)):\n",
    "        filename = directory + '/' + img\n",
    "        image = Image.open(filename)\n",
    "        image = image.resize((299,299))\n",
    "        image = np.expand_dims(image , axis=0)\n",
    "        image = image/127.5\n",
    "        image = image - 1.0\n",
    "\n",
    "        feature = model.predict(image)\n",
    "\n",
    "        features[img] = feature\n",
    "\n",
    "    return features\n",
    "\n",
    "\n",
    "#2048 feature vector\n",
    "\n",
    "features = extract_features(dataset_images)\n",
    "dump(features , open(\"features.p\" , \"wb\"))"
   ]
  },
  {
   "cell_type": "code",
   "execution_count": 4,
   "metadata": {
    "id": "W0R0lbAiDt2d"
   },
   "outputs": [],
   "source": [
    "features = load(open(\"features.p\" , \"rb\"))"
   ]
  },
  {
   "cell_type": "code",
   "execution_count": 5,
   "metadata": {
    "id": "Co1YpdeOgclj"
   },
   "outputs": [],
   "source": [
    "def load_photos(filename):\n",
    "  file = load_doc(filename)\n",
    "  photos = file.split(\"\\n\")[:-1]\n",
    "  return photos\n",
    "\n",
    "def load_clean_description(filename , photos):\n",
    "    file = load_doc(filename)\n",
    "    descriptions = {}\n",
    "    for line in file.split(\"\\n\"):\n",
    "        words = line.split()\n",
    "        if len(words)<1:\n",
    "            continue\n",
    "\n",
    "        image , image_caption = words[0] , words[1:]\n",
    "\n",
    "        if image in photos:\n",
    "            if image not in descriptions:\n",
    "                descriptions[image] = []\n",
    "            desc = '<start> '+\" \".join(image_caption) + ' <end>'\n",
    "            descriptions[image].append(desc)\n",
    "  \n",
    "    return descriptions\n",
    "\n",
    "\n",
    "def load_features(photos):\n",
    "    all_features = load(open(\"features.p\", \"rb\"))\n",
    "\n",
    "    features = {k:all_features[k] for k in photos}\n",
    "    return features\n",
    "\n",
    "filename = dataset_text + '/' + \"Flickr_8k.trainImages.txt\"\n",
    "\n",
    "train_imgs = load_photos(filename)\n",
    "train_descriptions = load_clean_description(\"descriptions.txt\" , train_imgs)\n",
    "train_features = load_features(train_imgs)\n",
    "\n"
   ]
  },
  {
   "cell_type": "code",
   "execution_count": 6,
   "metadata": {
    "id": "tEdwQxzVisr_"
   },
   "outputs": [],
   "source": [
    "from tensorflow.keras.preprocessing.text import Tokenizer"
   ]
  },
  {
   "cell_type": "code",
   "execution_count": 7,
   "metadata": {
    "colab": {
     "base_uri": "https://localhost:8080/",
     "height": 33
    },
    "id": "9od6Gj9ujg-X",
    "outputId": "01b3e73a-45f6-4431-af35-389a30f86e21"
   },
   "outputs": [
    {
     "data": {
      "text/plain": [
       "7577"
      ]
     },
     "execution_count": 7,
     "metadata": {},
     "output_type": "execute_result"
    }
   ],
   "source": [
    "def dict_to_list(descriptions):\n",
    "    all_desc = []\n",
    "    for key in descriptions.keys():\n",
    "        [all_desc.append(d) for d in descriptions[key]]\n",
    "    return all_desc\n",
    "\n",
    "def create_tokenizer(descriptions):\n",
    "    desc_list = dict_to_list(descriptions)\n",
    "    tokenizer = Tokenizer()\n",
    "    tokenizer.fit_on_texts(desc_list)\n",
    "    return tokenizer\n",
    "\n",
    "tokenizer = create_tokenizer(train_descriptions)\n",
    "dump(tokenizer , open(\"tokenizer.p\" , \"wb\"))\n",
    "vocab_size = len(tokenizer.word_index) + 1\n",
    "vocab_size"
   ]
  },
  {
   "cell_type": "code",
   "execution_count": 8,
   "metadata": {
    "colab": {
     "base_uri": "https://localhost:8080/",
     "height": 33
    },
    "id": "8z9BxbSPkTGr",
    "outputId": "7cbba2a3-2b47-4d9b-f9fa-465fcdca2655"
   },
   "outputs": [
    {
     "data": {
      "text/plain": [
       "32"
      ]
     },
     "execution_count": 8,
     "metadata": {},
     "output_type": "execute_result"
    }
   ],
   "source": [
    "def max_length(descriptions):\n",
    "    desc_list = dict_to_list(descriptions)\n",
    "    return max(len(d.split()) for d in desc_list)\n",
    "\n",
    "max_length = max_length(descriptions)\n",
    "max_length"
   ]
  },
  {
   "cell_type": "code",
   "execution_count": 14,
   "metadata": {
    "colab": {
     "base_uri": "https://localhost:8080/",
     "height": 33
    },
    "id": "P5R44h7YlI35",
    "outputId": "1776a34b-fe8d-4820-e056-16212f9157b7"
   },
   "outputs": [
    {
     "data": {
      "text/plain": [
       "((47, 2048), (47, 32), (47, 7577))"
      ]
     },
     "execution_count": 14,
     "metadata": {},
     "output_type": "execute_result"
    }
   ],
   "source": [
    "def data_generator(descriptions , features , tokenizer , max_length):\n",
    "    while 1:\n",
    "        for key , description_list in descriptions.items():\n",
    "            feature = features[key][0]\n",
    "            input_image , input_sequence , output_word = create_sequences(tokenizer , max_length , description_list , feature)\n",
    "            yield([input_image , input_sequence] , output_word)\n",
    "\n",
    "\n",
    "def create_sequences(tokenizer , max_length , desc_list , feature):\n",
    "    X1 , X2 , y = list() , list() , list()\n",
    "\n",
    "    for desc in desc_list:\n",
    "    \n",
    "        seq = tokenizer.texts_to_sequences([desc])[0]\n",
    "        for i in range(1,len(seq)):\n",
    "            in_seq , out_seq = seq[:i] , seq[i]\n",
    "\n",
    "            in_seq = pad_sequences([in_seq] , maxlen = max_length)[0]\n",
    "            out_seq = to_categorical([out_seq] , num_classes=vocab_size)[0]\n",
    "\n",
    "            X1.append(feature)\n",
    "            X2.append(in_seq)\n",
    "            y.append(out_seq)\n",
    "    \n",
    "    return np.array(X1) , np.array(X2) , np.array(y)\n",
    "\n",
    "\n",
    "[a,b],c = next(data_generator(train_descriptions , features , tokenizer , max_length))\n",
    "a.shape , b.shape , c.shape"
   ]
  },
  {
   "cell_type": "code",
   "execution_count": 15,
   "metadata": {
    "id": "JQ5Doo7sug-K"
   },
   "outputs": [],
   "source": [
    "from tensorflow.keras.utils import plot_model"
   ]
  },
  {
   "cell_type": "code",
   "execution_count": 16,
   "metadata": {
    "id": "d1jsOmlw9J3K"
   },
   "outputs": [],
   "source": [
    "def define_model(vocab_size , max_length):\n",
    "    inputs1 = Input(shape=(2048,))\n",
    "    fe1 = Dropout(0.5)(inputs1)\n",
    "    fe2 = Dense(256 , activation='relu')(fe1)\n",
    "\n",
    "    #LSTM\n",
    "    inputs2 = Input(shape = (max_length , ))\n",
    "    se1 = Embedding(vocab_size , 256 , mask_zero=True)(inputs2)\n",
    "    se2 = Dropout(0.5)(se1)\n",
    "    se3 = LSTM(256)(se2)\n",
    "\n",
    "    #Merge\n",
    "    decoder1 = add([fe2 , se3])\n",
    "    decoder2 = Dense(256 , activation='relu')(decoder1)\n",
    "    outputs = Dense(vocab_size , activation='softmax')(decoder2)\n",
    "\n",
    "    #Tie it together [image seq] [word]\n",
    "    model = Model(inputs=[inputs1 , inputs2] , outputs=outputs)\n",
    "    model.compile(loss = 'categorical_crossentropy' , optimizer = 'adam')\n",
    "\n",
    "    print(model.summary())\n",
    "    plot_model(model , to_file='model.png' , show_shapes=True)\n",
    "\n",
    "    return model\n"
   ]
  },
  {
   "cell_type": "code",
   "execution_count": 22,
   "metadata": {
    "colab": {
     "base_uri": "https://localhost:8080/",
     "height": 1000
    },
    "id": "f571VtlzAPTs",
    "outputId": "a45cee94-ce69-490b-bbe5-4c7603fcb469"
   },
   "outputs": [
    {
     "name": "stdout",
     "output_type": "stream",
     "text": [
      "Dataset :  6000\n",
      "Descriptions: train =  6000\n",
      "Photos: train =  6000\n",
      "vocab Size =  7577\n",
      "Description Lenght =  32\n",
      "Model: \"functional_15\"\n",
      "__________________________________________________________________________________________________\n",
      "Layer (type)                    Output Shape         Param #     Connected to                     \n",
      "==================================================================================================\n",
      "input_17 (InputLayer)           [(None, 32)]         0                                            \n",
      "__________________________________________________________________________________________________\n",
      "input_16 (InputLayer)           [(None, 2048)]       0                                            \n",
      "__________________________________________________________________________________________________\n",
      "embedding_7 (Embedding)         (None, 32, 256)      1939712     input_17[0][0]                   \n",
      "__________________________________________________________________________________________________\n",
      "dropout_14 (Dropout)            (None, 2048)         0           input_16[0][0]                   \n",
      "__________________________________________________________________________________________________\n",
      "dropout_15 (Dropout)            (None, 32, 256)      0           embedding_7[0][0]                \n",
      "__________________________________________________________________________________________________\n",
      "dense_21 (Dense)                (None, 256)          524544      dropout_14[0][0]                 \n",
      "__________________________________________________________________________________________________\n",
      "lstm_7 (LSTM)                   (None, 256)          525312      dropout_15[0][0]                 \n",
      "__________________________________________________________________________________________________\n",
      "add_19 (Add)                    (None, 256)          0           dense_21[0][0]                   \n",
      "                                                                 lstm_7[0][0]                     \n",
      "__________________________________________________________________________________________________\n",
      "dense_22 (Dense)                (None, 256)          65792       add_19[0][0]                     \n",
      "__________________________________________________________________________________________________\n",
      "dense_23 (Dense)                (None, 7577)         1947289     dense_22[0][0]                   \n",
      "==================================================================================================\n",
      "Total params: 5,002,649\n",
      "Trainable params: 5,002,649\n",
      "Non-trainable params: 0\n",
      "__________________________________________________________________________________________________\n",
      "None\n",
      "('Failed to import pydot. You must `pip install pydot` and install graphviz (https://graphviz.gitlab.io/download/), ', 'for `pydotprint` to work.')\n",
      "6000/6000 [==============================] - 918s 153ms/step - loss: 4.5112\n",
      "6000/6000 [==============================] - 935s 156ms/step - loss: 3.6654\n",
      "6000/6000 [==============================] - 1068s 178ms/step - loss: 3.3801\n",
      "6000/6000 [==============================] - 965s 161ms/step - loss: 3.2057\n",
      "6000/6000 [==============================] - 817s 136ms/step - loss: 3.0855\n",
      "6000/6000 [==============================] - 818s 136ms/step - loss: 2.9975\n",
      "6000/6000 [==============================] - 817s 136ms/step - loss: 2.9261\n",
      "6000/6000 [==============================] - 818s 136ms/step - loss: 2.8685\n",
      "6000/6000 [==============================] - 817s 136ms/step - loss: 2.8232\n",
      "6000/6000 [==============================] - 817s 136ms/step - loss: 2.7917\n"
     ]
    }
   ],
   "source": [
    "print('Dataset : ' , len(train_imgs))\n",
    "print('Descriptions: train = ' , len(train_descriptions))\n",
    "print('Photos: train = ' , len(train_features))\n",
    "print('vocab Size = ' , vocab_size)\n",
    "print('Description Lenght = ' , max_length)\n",
    "\n",
    "model = define_model(vocab_size , max_length)\n",
    "\n",
    "epochs = 10\n",
    "\n",
    "steps = len(train_descriptions)\n",
    "\n",
    "os.mkdir('models')\n",
    "\n",
    "for i in range(epochs):\n",
    "    generator = data_generator(train_descriptions , train_features , tokenizer , max_length)\n",
    "    model.fit_generator(generator , steps_per_epoch=steps , epochs = 1 , verbose=1)\n",
    "    model.save(\"models/model_\" + str(i+1) + \".h5\")"
   ]
  },
  {
   "cell_type": "code",
   "execution_count": null,
   "metadata": {
    "id": "Enlj689-BfMv"
   },
   "outputs": [],
   "source": []
  }
 ],
 "metadata": {
  "colab": {
   "name": "Caption_gen_train.ipynb",
   "provenance": []
  },
  "kernelspec": {
   "display_name": "Python 3",
   "language": "python",
   "name": "python3"
  },
  "language_info": {
   "codemirror_mode": {
    "name": "ipython",
    "version": 3
   },
   "file_extension": ".py",
   "mimetype": "text/x-python",
   "name": "python",
   "nbconvert_exporter": "python",
   "pygments_lexer": "ipython3",
   "version": "3.8.5"
  },
  "widgets": {
   "application/vnd.jupyter.widget-state+json": {
    "04f93504c0144a61aefe6353ae56949d": {
     "model_module": "@jupyter-widgets/controls",
     "model_name": "DescriptionStyleModel",
     "state": {
      "_model_module": "@jupyter-widgets/controls",
      "_model_module_version": "1.5.0",
      "_model_name": "DescriptionStyleModel",
      "_view_count": null,
      "_view_module": "@jupyter-widgets/base",
      "_view_module_version": "1.2.0",
      "_view_name": "StyleView",
      "description_width": ""
     }
    },
    "08f07db6de59400dad6bdcdcdf9f6b79": {
     "model_module": "@jupyter-widgets/base",
     "model_name": "LayoutModel",
     "state": {
      "_model_module": "@jupyter-widgets/base",
      "_model_module_version": "1.2.0",
      "_model_name": "LayoutModel",
      "_view_count": null,
      "_view_module": "@jupyter-widgets/base",
      "_view_module_version": "1.2.0",
      "_view_name": "LayoutView",
      "align_content": null,
      "align_items": null,
      "align_self": null,
      "border": null,
      "bottom": null,
      "display": null,
      "flex": null,
      "flex_flow": null,
      "grid_area": null,
      "grid_auto_columns": null,
      "grid_auto_flow": null,
      "grid_auto_rows": null,
      "grid_column": null,
      "grid_gap": null,
      "grid_row": null,
      "grid_template_areas": null,
      "grid_template_columns": null,
      "grid_template_rows": null,
      "height": null,
      "justify_content": null,
      "justify_items": null,
      "left": null,
      "margin": null,
      "max_height": null,
      "max_width": null,
      "min_height": null,
      "min_width": null,
      "object_fit": null,
      "object_position": null,
      "order": null,
      "overflow": null,
      "overflow_x": null,
      "overflow_y": null,
      "padding": null,
      "right": null,
      "top": null,
      "visibility": null,
      "width": null
     }
    },
    "0fde64defb734c068f1a5f88befbe0fd": {
     "model_module": "@jupyter-widgets/base",
     "model_name": "LayoutModel",
     "state": {
      "_model_module": "@jupyter-widgets/base",
      "_model_module_version": "1.2.0",
      "_model_name": "LayoutModel",
      "_view_count": null,
      "_view_module": "@jupyter-widgets/base",
      "_view_module_version": "1.2.0",
      "_view_name": "LayoutView",
      "align_content": null,
      "align_items": null,
      "align_self": null,
      "border": null,
      "bottom": null,
      "display": null,
      "flex": null,
      "flex_flow": null,
      "grid_area": null,
      "grid_auto_columns": null,
      "grid_auto_flow": null,
      "grid_auto_rows": null,
      "grid_column": null,
      "grid_gap": null,
      "grid_row": null,
      "grid_template_areas": null,
      "grid_template_columns": null,
      "grid_template_rows": null,
      "height": null,
      "justify_content": null,
      "justify_items": null,
      "left": null,
      "margin": null,
      "max_height": null,
      "max_width": null,
      "min_height": null,
      "min_width": null,
      "object_fit": null,
      "object_position": null,
      "order": null,
      "overflow": null,
      "overflow_x": null,
      "overflow_y": null,
      "padding": null,
      "right": null,
      "top": null,
      "visibility": null,
      "width": null
     }
    },
    "1b8a305eb5ee4ab188f3d2a50e9665c4": {
     "model_module": "@jupyter-widgets/controls",
     "model_name": "ProgressStyleModel",
     "state": {
      "_model_module": "@jupyter-widgets/controls",
      "_model_module_version": "1.5.0",
      "_model_name": "ProgressStyleModel",
      "_view_count": null,
      "_view_module": "@jupyter-widgets/base",
      "_view_module_version": "1.2.0",
      "_view_name": "StyleView",
      "bar_color": null,
      "description_width": "initial"
     }
    },
    "282336856c794e559b5a4fb74bf49c5d": {
     "model_module": "@jupyter-widgets/controls",
     "model_name": "HTMLModel",
     "state": {
      "_dom_classes": [],
      "_model_module": "@jupyter-widgets/controls",
      "_model_module_version": "1.5.0",
      "_model_name": "HTMLModel",
      "_view_count": null,
      "_view_module": "@jupyter-widgets/controls",
      "_view_module_version": "1.5.0",
      "_view_name": "HTMLView",
      "description": "",
      "description_tooltip": null,
      "layout": "IPY_MODEL_0fde64defb734c068f1a5f88befbe0fd",
      "placeholder": "​",
      "style": "IPY_MODEL_04f93504c0144a61aefe6353ae56949d",
      "value": " 8091/8091 [2:05:29&lt;00:00,  1.07it/s]"
     }
    },
    "2d08bf19a48941ecb5341faf32d78f73": {
     "model_module": "@jupyter-widgets/controls",
     "model_name": "HTMLModel",
     "state": {
      "_dom_classes": [],
      "_model_module": "@jupyter-widgets/controls",
      "_model_module_version": "1.5.0",
      "_model_name": "HTMLModel",
      "_view_count": null,
      "_view_module": "@jupyter-widgets/controls",
      "_view_module_version": "1.5.0",
      "_view_name": "HTMLView",
      "description": "",
      "description_tooltip": null,
      "layout": "IPY_MODEL_7ff11c08434b4d518a56d57c580e54ed",
      "placeholder": "​",
      "style": "IPY_MODEL_e94807b5126944889819e3653773e88d",
      "value": " 0/? [00:00&lt;?, ?it/s]"
     }
    },
    "56fd0fa7503d42e5946794295b422773": {
     "model_module": "@jupyter-widgets/controls",
     "model_name": "HBoxModel",
     "state": {
      "_dom_classes": [],
      "_model_module": "@jupyter-widgets/controls",
      "_model_module_version": "1.5.0",
      "_model_name": "HBoxModel",
      "_view_count": null,
      "_view_module": "@jupyter-widgets/controls",
      "_view_module_version": "1.5.0",
      "_view_name": "HBoxView",
      "box_style": "",
      "children": [
       "IPY_MODEL_fbc0dfeaf53b421480971a8dc0419ee1",
       "IPY_MODEL_282336856c794e559b5a4fb74bf49c5d"
      ],
      "layout": "IPY_MODEL_f2d8c9a97d164cdc9ff98693f11ab0e9"
     }
    },
    "6fae34c43f4e45d1a6a20079c69bb93a": {
     "model_module": "@jupyter-widgets/base",
     "model_name": "LayoutModel",
     "state": {
      "_model_module": "@jupyter-widgets/base",
      "_model_module_version": "1.2.0",
      "_model_name": "LayoutModel",
      "_view_count": null,
      "_view_module": "@jupyter-widgets/base",
      "_view_module_version": "1.2.0",
      "_view_name": "LayoutView",
      "align_content": null,
      "align_items": null,
      "align_self": null,
      "border": null,
      "bottom": null,
      "display": null,
      "flex": null,
      "flex_flow": null,
      "grid_area": null,
      "grid_auto_columns": null,
      "grid_auto_flow": null,
      "grid_auto_rows": null,
      "grid_column": null,
      "grid_gap": null,
      "grid_row": null,
      "grid_template_areas": null,
      "grid_template_columns": null,
      "grid_template_rows": null,
      "height": null,
      "justify_content": null,
      "justify_items": null,
      "left": null,
      "margin": null,
      "max_height": null,
      "max_width": null,
      "min_height": null,
      "min_width": null,
      "object_fit": null,
      "object_position": null,
      "order": null,
      "overflow": null,
      "overflow_x": null,
      "overflow_y": null,
      "padding": null,
      "right": null,
      "top": null,
      "visibility": null,
      "width": null
     }
    },
    "7ff11c08434b4d518a56d57c580e54ed": {
     "model_module": "@jupyter-widgets/base",
     "model_name": "LayoutModel",
     "state": {
      "_model_module": "@jupyter-widgets/base",
      "_model_module_version": "1.2.0",
      "_model_name": "LayoutModel",
      "_view_count": null,
      "_view_module": "@jupyter-widgets/base",
      "_view_module_version": "1.2.0",
      "_view_name": "LayoutView",
      "align_content": null,
      "align_items": null,
      "align_self": null,
      "border": null,
      "bottom": null,
      "display": null,
      "flex": null,
      "flex_flow": null,
      "grid_area": null,
      "grid_auto_columns": null,
      "grid_auto_flow": null,
      "grid_auto_rows": null,
      "grid_column": null,
      "grid_gap": null,
      "grid_row": null,
      "grid_template_areas": null,
      "grid_template_columns": null,
      "grid_template_rows": null,
      "height": null,
      "justify_content": null,
      "justify_items": null,
      "left": null,
      "margin": null,
      "max_height": null,
      "max_width": null,
      "min_height": null,
      "min_width": null,
      "object_fit": null,
      "object_position": null,
      "order": null,
      "overflow": null,
      "overflow_x": null,
      "overflow_y": null,
      "padding": null,
      "right": null,
      "top": null,
      "visibility": null,
      "width": null
     }
    },
    "96be932e8e4b4dd2b621ed0b4fb0f1b9": {
     "model_module": "@jupyter-widgets/controls",
     "model_name": "HBoxModel",
     "state": {
      "_dom_classes": [],
      "_model_module": "@jupyter-widgets/controls",
      "_model_module_version": "1.5.0",
      "_model_name": "HBoxModel",
      "_view_count": null,
      "_view_module": "@jupyter-widgets/controls",
      "_view_module_version": "1.5.0",
      "_view_name": "HBoxView",
      "box_style": "",
      "children": [
       "IPY_MODEL_dd91e89ed063468bbb79d21345cb10c7",
       "IPY_MODEL_2d08bf19a48941ecb5341faf32d78f73"
      ],
      "layout": "IPY_MODEL_d2fc5ab450394cf7b3e19aca86213acb"
     }
    },
    "cf17c57e78a3465f9b96fc6dd6a36b64": {
     "model_module": "@jupyter-widgets/controls",
     "model_name": "ProgressStyleModel",
     "state": {
      "_model_module": "@jupyter-widgets/controls",
      "_model_module_version": "1.5.0",
      "_model_name": "ProgressStyleModel",
      "_view_count": null,
      "_view_module": "@jupyter-widgets/base",
      "_view_module_version": "1.2.0",
      "_view_name": "StyleView",
      "bar_color": null,
      "description_width": "initial"
     }
    },
    "d2fc5ab450394cf7b3e19aca86213acb": {
     "model_module": "@jupyter-widgets/base",
     "model_name": "LayoutModel",
     "state": {
      "_model_module": "@jupyter-widgets/base",
      "_model_module_version": "1.2.0",
      "_model_name": "LayoutModel",
      "_view_count": null,
      "_view_module": "@jupyter-widgets/base",
      "_view_module_version": "1.2.0",
      "_view_name": "LayoutView",
      "align_content": null,
      "align_items": null,
      "align_self": null,
      "border": null,
      "bottom": null,
      "display": null,
      "flex": null,
      "flex_flow": null,
      "grid_area": null,
      "grid_auto_columns": null,
      "grid_auto_flow": null,
      "grid_auto_rows": null,
      "grid_column": null,
      "grid_gap": null,
      "grid_row": null,
      "grid_template_areas": null,
      "grid_template_columns": null,
      "grid_template_rows": null,
      "height": null,
      "justify_content": null,
      "justify_items": null,
      "left": null,
      "margin": null,
      "max_height": null,
      "max_width": null,
      "min_height": null,
      "min_width": null,
      "object_fit": null,
      "object_position": null,
      "order": null,
      "overflow": null,
      "overflow_x": null,
      "overflow_y": null,
      "padding": null,
      "right": null,
      "top": null,
      "visibility": null,
      "width": null
     }
    },
    "dd91e89ed063468bbb79d21345cb10c7": {
     "model_module": "@jupyter-widgets/controls",
     "model_name": "FloatProgressModel",
     "state": {
      "_dom_classes": [],
      "_model_module": "@jupyter-widgets/controls",
      "_model_module_version": "1.5.0",
      "_model_name": "FloatProgressModel",
      "_view_count": null,
      "_view_module": "@jupyter-widgets/controls",
      "_view_module_version": "1.5.0",
      "_view_name": "ProgressView",
      "bar_style": "success",
      "description": "",
      "description_tooltip": null,
      "layout": "IPY_MODEL_08f07db6de59400dad6bdcdcdf9f6b79",
      "max": 1,
      "min": 0,
      "orientation": "horizontal",
      "style": "IPY_MODEL_1b8a305eb5ee4ab188f3d2a50e9665c4",
      "value": 0
     }
    },
    "e94807b5126944889819e3653773e88d": {
     "model_module": "@jupyter-widgets/controls",
     "model_name": "DescriptionStyleModel",
     "state": {
      "_model_module": "@jupyter-widgets/controls",
      "_model_module_version": "1.5.0",
      "_model_name": "DescriptionStyleModel",
      "_view_count": null,
      "_view_module": "@jupyter-widgets/base",
      "_view_module_version": "1.2.0",
      "_view_name": "StyleView",
      "description_width": ""
     }
    },
    "f2d8c9a97d164cdc9ff98693f11ab0e9": {
     "model_module": "@jupyter-widgets/base",
     "model_name": "LayoutModel",
     "state": {
      "_model_module": "@jupyter-widgets/base",
      "_model_module_version": "1.2.0",
      "_model_name": "LayoutModel",
      "_view_count": null,
      "_view_module": "@jupyter-widgets/base",
      "_view_module_version": "1.2.0",
      "_view_name": "LayoutView",
      "align_content": null,
      "align_items": null,
      "align_self": null,
      "border": null,
      "bottom": null,
      "display": null,
      "flex": null,
      "flex_flow": null,
      "grid_area": null,
      "grid_auto_columns": null,
      "grid_auto_flow": null,
      "grid_auto_rows": null,
      "grid_column": null,
      "grid_gap": null,
      "grid_row": null,
      "grid_template_areas": null,
      "grid_template_columns": null,
      "grid_template_rows": null,
      "height": null,
      "justify_content": null,
      "justify_items": null,
      "left": null,
      "margin": null,
      "max_height": null,
      "max_width": null,
      "min_height": null,
      "min_width": null,
      "object_fit": null,
      "object_position": null,
      "order": null,
      "overflow": null,
      "overflow_x": null,
      "overflow_y": null,
      "padding": null,
      "right": null,
      "top": null,
      "visibility": null,
      "width": null
     }
    },
    "fbc0dfeaf53b421480971a8dc0419ee1": {
     "model_module": "@jupyter-widgets/controls",
     "model_name": "FloatProgressModel",
     "state": {
      "_dom_classes": [],
      "_model_module": "@jupyter-widgets/controls",
      "_model_module_version": "1.5.0",
      "_model_name": "FloatProgressModel",
      "_view_count": null,
      "_view_module": "@jupyter-widgets/controls",
      "_view_module_version": "1.5.0",
      "_view_name": "ProgressView",
      "bar_style": "success",
      "description": "100%",
      "description_tooltip": null,
      "layout": "IPY_MODEL_6fae34c43f4e45d1a6a20079c69bb93a",
      "max": 8091,
      "min": 0,
      "orientation": "horizontal",
      "style": "IPY_MODEL_cf17c57e78a3465f9b96fc6dd6a36b64",
      "value": 8091
     }
    }
   }
  }
 },
 "nbformat": 4,
 "nbformat_minor": 1
}
